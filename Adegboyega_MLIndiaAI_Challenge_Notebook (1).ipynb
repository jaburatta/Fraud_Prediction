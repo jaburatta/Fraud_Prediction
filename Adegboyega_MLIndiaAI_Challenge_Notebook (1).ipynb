{
  "nbformat": 4,
  "nbformat_minor": 0,
  "metadata": {
    "colab": {
      "name": "Adegboyega MLIndiaAI Challenge Notebook.ipynb",
      "provenance": [],
      "collapsed_sections": []
    },
    "kernelspec": {
      "name": "python3",
      "display_name": "Python 3"
    },
    "accelerator": "GPU"
  },
  "cells": [
    {
      "cell_type": "code",
      "metadata": {
        "id": "AlLpMQ_05Kai"
      },
      "source": [
        "# Importing the necessary libraries\r\n",
        "import pandas as pd\r\n",
        "import numpy as np\r\n",
        "import matplotlib.pyplot as plt\r\n",
        "import seaborn as sns"
      ],
      "execution_count": 1,
      "outputs": []
    },
    {
      "cell_type": "code",
      "metadata": {
        "id": "Gy-48HCV5UWL"
      },
      "source": [
        "# Training dataset path\r\n",
        "train_path = \"/content/drive/MyDrive/MLIndiaAI/TRAIN.csv\""
      ],
      "execution_count": 2,
      "outputs": []
    },
    {
      "cell_type": "code",
      "metadata": {
        "id": "Au0UfkmF8mX4"
      },
      "source": [
        "# reading in the dataset\r\n",
        "train_dt = pd.read_csv(train_path, index_col='Index')"
      ],
      "execution_count": 3,
      "outputs": []
    },
    {
      "cell_type": "code",
      "metadata": {
        "colab": {
          "base_uri": "https://localhost:8080/",
          "height": 255
        },
        "id": "pEXSyZs08v8w",
        "outputId": "cb285a11-ec7a-4d8b-a8f5-009e50e63023"
      },
      "source": [
        "train_dt.tail()"
      ],
      "execution_count": 4,
      "outputs": [
        {
          "output_type": "execute_result",
          "data": {
            "text/html": [
              "<div>\n",
              "<style scoped>\n",
              "    .dataframe tbody tr th:only-of-type {\n",
              "        vertical-align: middle;\n",
              "    }\n",
              "\n",
              "    .dataframe tbody tr th {\n",
              "        vertical-align: top;\n",
              "    }\n",
              "\n",
              "    .dataframe thead th {\n",
              "        text-align: right;\n",
              "    }\n",
              "</style>\n",
              "<table border=\"1\" class=\"dataframe\">\n",
              "  <thead>\n",
              "    <tr style=\"text-align: right;\">\n",
              "      <th></th>\n",
              "      <th>V1</th>\n",
              "      <th>V2</th>\n",
              "      <th>V3</th>\n",
              "      <th>V4</th>\n",
              "      <th>V5</th>\n",
              "      <th>V6</th>\n",
              "      <th>V7</th>\n",
              "      <th>V8</th>\n",
              "      <th>V9</th>\n",
              "      <th>V10</th>\n",
              "      <th>V11</th>\n",
              "      <th>V12</th>\n",
              "      <th>V13</th>\n",
              "      <th>V14</th>\n",
              "      <th>V15</th>\n",
              "      <th>V16</th>\n",
              "      <th>V17</th>\n",
              "      <th>V18</th>\n",
              "      <th>V19</th>\n",
              "      <th>V20</th>\n",
              "      <th>V21</th>\n",
              "      <th>V22</th>\n",
              "      <th>V23</th>\n",
              "      <th>V24</th>\n",
              "      <th>V25</th>\n",
              "      <th>V26</th>\n",
              "      <th>V27</th>\n",
              "      <th>V28</th>\n",
              "      <th>Amount</th>\n",
              "      <th>Class</th>\n",
              "    </tr>\n",
              "    <tr>\n",
              "      <th>Index</th>\n",
              "      <th></th>\n",
              "      <th></th>\n",
              "      <th></th>\n",
              "      <th></th>\n",
              "      <th></th>\n",
              "      <th></th>\n",
              "      <th></th>\n",
              "      <th></th>\n",
              "      <th></th>\n",
              "      <th></th>\n",
              "      <th></th>\n",
              "      <th></th>\n",
              "      <th></th>\n",
              "      <th></th>\n",
              "      <th></th>\n",
              "      <th></th>\n",
              "      <th></th>\n",
              "      <th></th>\n",
              "      <th></th>\n",
              "      <th></th>\n",
              "      <th></th>\n",
              "      <th></th>\n",
              "      <th></th>\n",
              "      <th></th>\n",
              "      <th></th>\n",
              "      <th></th>\n",
              "      <th></th>\n",
              "      <th></th>\n",
              "      <th></th>\n",
              "      <th></th>\n",
              "    </tr>\n",
              "  </thead>\n",
              "  <tbody>\n",
              "    <tr>\n",
              "      <th>284450</th>\n",
              "      <td>1.216221</td>\n",
              "      <td>0.095995</td>\n",
              "      <td>0.666817</td>\n",
              "      <td>1.850616</td>\n",
              "      <td>-0.516269</td>\n",
              "      <td>-0.267296</td>\n",
              "      <td>-0.183114</td>\n",
              "      <td>-0.104976</td>\n",
              "      <td>-1.985790</td>\n",
              "      <td>1.442988</td>\n",
              "      <td>-0.153159</td>\n",
              "      <td>0.143619</td>\n",
              "      <td>0.923098</td>\n",
              "      <td>0.095348</td>\n",
              "      <td>0.439161</td>\n",
              "      <td>-1.330980</td>\n",
              "      <td>0.021354</td>\n",
              "      <td>0.416465</td>\n",
              "      <td>-2.256853</td>\n",
              "      <td>-0.528517</td>\n",
              "      <td>-0.286826</td>\n",
              "      <td>-0.347838</td>\n",
              "      <td>0.072935</td>\n",
              "      <td>0.367923</td>\n",
              "      <td>0.358108</td>\n",
              "      <td>0.044019</td>\n",
              "      <td>0.027223</td>\n",
              "      <td>0.028017</td>\n",
              "      <td>19.46</td>\n",
              "      <td>0</td>\n",
              "    </tr>\n",
              "    <tr>\n",
              "      <th>284451</th>\n",
              "      <td>1.429502</td>\n",
              "      <td>-0.990271</td>\n",
              "      <td>-0.224429</td>\n",
              "      <td>-1.808740</td>\n",
              "      <td>0.770788</td>\n",
              "      <td>3.730989</td>\n",
              "      <td>-1.914212</td>\n",
              "      <td>1.036385</td>\n",
              "      <td>-0.316971</td>\n",
              "      <td>0.646103</td>\n",
              "      <td>-0.100190</td>\n",
              "      <td>-0.751095</td>\n",
              "      <td>0.437456</td>\n",
              "      <td>-0.504131</td>\n",
              "      <td>1.491844</td>\n",
              "      <td>2.024039</td>\n",
              "      <td>-0.554936</td>\n",
              "      <td>-0.204874</td>\n",
              "      <td>0.477147</td>\n",
              "      <td>0.206332</td>\n",
              "      <td>0.376136</td>\n",
              "      <td>0.928723</td>\n",
              "      <td>-0.108174</td>\n",
              "      <td>1.048922</td>\n",
              "      <td>0.481214</td>\n",
              "      <td>-0.026342</td>\n",
              "      <td>0.062900</td>\n",
              "      <td>0.024639</td>\n",
              "      <td>0.02</td>\n",
              "      <td>0</td>\n",
              "    </tr>\n",
              "    <tr>\n",
              "      <th>284452</th>\n",
              "      <td>2.041198</td>\n",
              "      <td>-0.218276</td>\n",
              "      <td>-1.405547</td>\n",
              "      <td>0.187570</td>\n",
              "      <td>0.001916</td>\n",
              "      <td>-0.781668</td>\n",
              "      <td>-0.043787</td>\n",
              "      <td>-0.090115</td>\n",
              "      <td>0.677407</td>\n",
              "      <td>0.227002</td>\n",
              "      <td>0.439484</td>\n",
              "      <td>-0.085891</td>\n",
              "      <td>-1.801888</td>\n",
              "      <td>1.007830</td>\n",
              "      <td>0.348531</td>\n",
              "      <td>0.140724</td>\n",
              "      <td>-0.729001</td>\n",
              "      <td>0.717937</td>\n",
              "      <td>0.099021</td>\n",
              "      <td>-0.348353</td>\n",
              "      <td>0.273900</td>\n",
              "      <td>0.844092</td>\n",
              "      <td>-0.023770</td>\n",
              "      <td>-0.407890</td>\n",
              "      <td>0.190140</td>\n",
              "      <td>-0.089576</td>\n",
              "      <td>-0.029237</td>\n",
              "      <td>-0.075626</td>\n",
              "      <td>1.00</td>\n",
              "      <td>0</td>\n",
              "    </tr>\n",
              "    <tr>\n",
              "      <th>284453</th>\n",
              "      <td>1.857451</td>\n",
              "      <td>0.071823</td>\n",
              "      <td>-0.086963</td>\n",
              "      <td>3.553877</td>\n",
              "      <td>0.082026</td>\n",
              "      <td>1.245277</td>\n",
              "      <td>-0.788886</td>\n",
              "      <td>0.467363</td>\n",
              "      <td>-0.271086</td>\n",
              "      <td>1.574760</td>\n",
              "      <td>-0.443961</td>\n",
              "      <td>-0.501712</td>\n",
              "      <td>-1.357095</td>\n",
              "      <td>0.173390</td>\n",
              "      <td>-1.039803</td>\n",
              "      <td>1.643621</td>\n",
              "      <td>-1.299847</td>\n",
              "      <td>0.922837</td>\n",
              "      <td>-1.231397</td>\n",
              "      <td>-0.306389</td>\n",
              "      <td>0.170106</td>\n",
              "      <td>0.451313</td>\n",
              "      <td>0.157898</td>\n",
              "      <td>0.129330</td>\n",
              "      <td>-0.228721</td>\n",
              "      <td>0.012281</td>\n",
              "      <td>-0.003598</td>\n",
              "      <td>-0.041590</td>\n",
              "      <td>11.31</td>\n",
              "      <td>0</td>\n",
              "    </tr>\n",
              "    <tr>\n",
              "      <th>284454</th>\n",
              "      <td>-0.684651</td>\n",
              "      <td>1.031745</td>\n",
              "      <td>0.693707</td>\n",
              "      <td>0.966796</td>\n",
              "      <td>0.297916</td>\n",
              "      <td>1.261476</td>\n",
              "      <td>-0.125550</td>\n",
              "      <td>0.887185</td>\n",
              "      <td>-0.256040</td>\n",
              "      <td>-0.156763</td>\n",
              "      <td>-0.526146</td>\n",
              "      <td>0.138975</td>\n",
              "      <td>-0.801623</td>\n",
              "      <td>0.445057</td>\n",
              "      <td>-0.456851</td>\n",
              "      <td>-0.446537</td>\n",
              "      <td>0.121772</td>\n",
              "      <td>0.532317</td>\n",
              "      <td>1.476535</td>\n",
              "      <td>0.027695</td>\n",
              "      <td>0.042087</td>\n",
              "      <td>0.333864</td>\n",
              "      <td>-0.259636</td>\n",
              "      <td>-1.304181</td>\n",
              "      <td>-0.035003</td>\n",
              "      <td>-0.099278</td>\n",
              "      <td>0.318439</td>\n",
              "      <td>0.128356</td>\n",
              "      <td>14.95</td>\n",
              "      <td>0</td>\n",
              "    </tr>\n",
              "  </tbody>\n",
              "</table>\n",
              "</div>"
            ],
            "text/plain": [
              "              V1        V2        V3  ...       V28  Amount  Class\n",
              "Index                                 ...                         \n",
              "284450  1.216221  0.095995  0.666817  ...  0.028017   19.46      0\n",
              "284451  1.429502 -0.990271 -0.224429  ...  0.024639    0.02      0\n",
              "284452  2.041198 -0.218276 -1.405547  ... -0.075626    1.00      0\n",
              "284453  1.857451  0.071823 -0.086963  ... -0.041590   11.31      0\n",
              "284454 -0.684651  1.031745  0.693707  ...  0.128356   14.95      0\n",
              "\n",
              "[5 rows x 30 columns]"
            ]
          },
          "metadata": {
            "tags": []
          },
          "execution_count": 4
        }
      ]
    },
    {
      "cell_type": "code",
      "metadata": {
        "colab": {
          "base_uri": "https://localhost:8080/"
        },
        "id": "TQVZ8Ub28zwv",
        "outputId": "982fae5a-861e-4656-859c-376a0b1d2e11"
      },
      "source": [
        "train_dt.info()"
      ],
      "execution_count": 5,
      "outputs": [
        {
          "output_type": "stream",
          "text": [
            "<class 'pandas.core.frame.DataFrame'>\n",
            "Int64Index: 284455 entries, 0 to 284454\n",
            "Data columns (total 30 columns):\n",
            " #   Column  Non-Null Count   Dtype  \n",
            "---  ------  --------------   -----  \n",
            " 0   V1      284455 non-null  float64\n",
            " 1   V2      284455 non-null  float64\n",
            " 2   V3      284455 non-null  float64\n",
            " 3   V4      284455 non-null  float64\n",
            " 4   V5      284455 non-null  float64\n",
            " 5   V6      284455 non-null  float64\n",
            " 6   V7      284455 non-null  float64\n",
            " 7   V8      284455 non-null  float64\n",
            " 8   V9      284455 non-null  float64\n",
            " 9   V10     284455 non-null  float64\n",
            " 10  V11     284455 non-null  float64\n",
            " 11  V12     284455 non-null  float64\n",
            " 12  V13     284455 non-null  float64\n",
            " 13  V14     284455 non-null  float64\n",
            " 14  V15     284455 non-null  float64\n",
            " 15  V16     284455 non-null  float64\n",
            " 16  V17     284455 non-null  float64\n",
            " 17  V18     284455 non-null  float64\n",
            " 18  V19     284455 non-null  float64\n",
            " 19  V20     284455 non-null  float64\n",
            " 20  V21     284455 non-null  float64\n",
            " 21  V22     284455 non-null  float64\n",
            " 22  V23     284455 non-null  float64\n",
            " 23  V24     284455 non-null  float64\n",
            " 24  V25     284455 non-null  float64\n",
            " 25  V26     284455 non-null  float64\n",
            " 26  V27     284455 non-null  float64\n",
            " 27  V28     284455 non-null  float64\n",
            " 28  Amount  284455 non-null  float64\n",
            " 29  Class   284455 non-null  int64  \n",
            "dtypes: float64(29), int64(1)\n",
            "memory usage: 67.3 MB\n"
          ],
          "name": "stdout"
        }
      ]
    },
    {
      "cell_type": "code",
      "metadata": {
        "colab": {
          "base_uri": "https://localhost:8080/"
        },
        "id": "I7HW0fRT85WG",
        "outputId": "034d4db5-4bd0-4cef-fd78-2097fd171b9b"
      },
      "source": [
        "# Checking the target variable to check how imbalanced the dataset is\r\n",
        "train_dt['Class'].value_counts()"
      ],
      "execution_count": 6,
      "outputs": [
        {
          "output_type": "execute_result",
          "data": {
            "text/plain": [
              "0    284015\n",
              "1       440\n",
              "Name: Class, dtype: int64"
            ]
          },
          "metadata": {
            "tags": []
          },
          "execution_count": 6
        }
      ]
    },
    {
      "cell_type": "code",
      "metadata": {
        "colab": {
          "base_uri": "https://localhost:8080/",
          "height": 296
        },
        "id": "27E1PnaCJvL4",
        "outputId": "c58c0bd3-94a1-47b9-aa03-8782ff8ba2b7"
      },
      "source": [
        "sns.countplot(x=train_dt['Class'], data=train_dt)"
      ],
      "execution_count": 7,
      "outputs": [
        {
          "output_type": "execute_result",
          "data": {
            "text/plain": [
              "<matplotlib.axes._subplots.AxesSubplot at 0x7f9d2ec345f8>"
            ]
          },
          "metadata": {
            "tags": []
          },
          "execution_count": 7
        },
        {
          "output_type": "display_data",
          "data": {
            "image/png": "[encoded data removed]",
            "text/plain": [
              "<Figure size 432x288 with 1 Axes>"
            ]
          },
          "metadata": {
            "tags": [],
            "needs_background": "light"
          }
        }
      ]
    },
    {
      "cell_type": "code",
      "metadata": {
        "id": "V3N2ZQx59V9H"
      },
      "source": [
        "# fraud = train_dt[train_dt['Class']==1]\r\n",
        "# fraud"
      ],
      "execution_count": 8,
      "outputs": []
    },
    {
      "cell_type": "code",
      "metadata": {
        "colab": {
          "base_uri": "https://localhost:8080/"
        },
        "id": "J8d6dgZ_9eeX",
        "outputId": "edd8b718-401c-41ec-bb93-20ccd1f9c9e8"
      },
      "source": [
        "# Checking correlation of each feature with respect to the target variable\r\n",
        "train_dt.corrwith(train_dt['Class']).sort_values(ascending=True)"
      ],
      "execution_count": 9,
      "outputs": [
        {
          "output_type": "execute_result",
          "data": {
            "text/plain": [
              "V17      -0.312714\n",
              "V14      -0.287015\n",
              "V12      -0.249538\n",
              "V10      -0.207321\n",
              "V16      -0.186621\n",
              "V3       -0.183220\n",
              "V7       -0.180110\n",
              "V18      -0.105902\n",
              "V1       -0.096373\n",
              "V9       -0.093588\n",
              "V5       -0.089295\n",
              "V6       -0.041521\n",
              "V24      -0.006572\n",
              "V13      -0.004318\n",
              "V15      -0.003658\n",
              "V23      -0.002535\n",
              "V25       0.001242\n",
              "V22       0.002137\n",
              "V26       0.004224\n",
              "Amount    0.004730\n",
              "V28       0.008279\n",
              "V8        0.015590\n",
              "V27       0.015708\n",
              "V20       0.019624\n",
              "V19       0.032968\n",
              "V21       0.035185\n",
              "V2        0.086505\n",
              "V4        0.127422\n",
              "V11       0.147121\n",
              "Class     1.000000\n",
              "dtype: float64"
            ]
          },
          "metadata": {
            "tags": []
          },
          "execution_count": 9
        }
      ]
    },
    {
      "cell_type": "code",
      "metadata": {
        "colab": {
          "base_uri": "https://localhost:8080/",
          "height": 255
        },
        "id": "GqX7j7snpPwf",
        "outputId": "ab7ed68e-ce64-4623-f135-e313b2dc1609"
      },
      "source": [
        "# shuffle the dataset\r\n",
        "from sklearn.utils import shuffle\r\n",
        "train_dt = shuffle(train_dt)\r\n",
        "train_dt.head()"
      ],
      "execution_count": 10,
      "outputs": [
        {
          "output_type": "execute_result",
          "data": {
            "text/html": [
              "<div>\n",
              "<style scoped>\n",
              "    .dataframe tbody tr th:only-of-type {\n",
              "        vertical-align: middle;\n",
              "    }\n",
              "\n",
              "    .dataframe tbody tr th {\n",
              "        vertical-align: top;\n",
              "    }\n",
              "\n",
              "    .dataframe thead th {\n",
              "        text-align: right;\n",
              "    }\n",
              "</style>\n",
              "<table border=\"1\" class=\"dataframe\">\n",
              "  <thead>\n",
              "    <tr style=\"text-align: right;\">\n",
              "      <th></th>\n",
              "      <th>V1</th>\n",
              "      <th>V2</th>\n",
              "      <th>V3</th>\n",
              "      <th>V4</th>\n",
              "      <th>V5</th>\n",
              "      <th>V6</th>\n",
              "      <th>V7</th>\n",
              "      <th>V8</th>\n",
              "      <th>V9</th>\n",
              "      <th>V10</th>\n",
              "      <th>V11</th>\n",
              "      <th>V12</th>\n",
              "      <th>V13</th>\n",
              "      <th>V14</th>\n",
              "      <th>V15</th>\n",
              "      <th>V16</th>\n",
              "      <th>V17</th>\n",
              "      <th>V18</th>\n",
              "      <th>V19</th>\n",
              "      <th>V20</th>\n",
              "      <th>V21</th>\n",
              "      <th>V22</th>\n",
              "      <th>V23</th>\n",
              "      <th>V24</th>\n",
              "      <th>V25</th>\n",
              "      <th>V26</th>\n",
              "      <th>V27</th>\n",
              "      <th>V28</th>\n",
              "      <th>Amount</th>\n",
              "      <th>Class</th>\n",
              "    </tr>\n",
              "    <tr>\n",
              "      <th>Index</th>\n",
              "      <th></th>\n",
              "      <th></th>\n",
              "      <th></th>\n",
              "      <th></th>\n",
              "      <th></th>\n",
              "      <th></th>\n",
              "      <th></th>\n",
              "      <th></th>\n",
              "      <th></th>\n",
              "      <th></th>\n",
              "      <th></th>\n",
              "      <th></th>\n",
              "      <th></th>\n",
              "      <th></th>\n",
              "      <th></th>\n",
              "      <th></th>\n",
              "      <th></th>\n",
              "      <th></th>\n",
              "      <th></th>\n",
              "      <th></th>\n",
              "      <th></th>\n",
              "      <th></th>\n",
              "      <th></th>\n",
              "      <th></th>\n",
              "      <th></th>\n",
              "      <th></th>\n",
              "      <th></th>\n",
              "      <th></th>\n",
              "      <th></th>\n",
              "      <th></th>\n",
              "    </tr>\n",
              "  </thead>\n",
              "  <tbody>\n",
              "    <tr>\n",
              "      <th>277078</th>\n",
              "      <td>1.447339</td>\n",
              "      <td>-0.424178</td>\n",
              "      <td>-0.340811</td>\n",
              "      <td>-0.848352</td>\n",
              "      <td>-0.169198</td>\n",
              "      <td>-0.049144</td>\n",
              "      <td>-0.266495</td>\n",
              "      <td>-0.146618</td>\n",
              "      <td>-1.167442</td>\n",
              "      <td>0.757756</td>\n",
              "      <td>0.129746</td>\n",
              "      <td>0.935826</td>\n",
              "      <td>1.521616</td>\n",
              "      <td>-0.102467</td>\n",
              "      <td>-0.796737</td>\n",
              "      <td>-1.320017</td>\n",
              "      <td>-0.431840</td>\n",
              "      <td>1.316452</td>\n",
              "      <td>0.257675</td>\n",
              "      <td>-0.373594</td>\n",
              "      <td>-0.460368</td>\n",
              "      <td>-0.685025</td>\n",
              "      <td>-0.176259</td>\n",
              "      <td>-0.756705</td>\n",
              "      <td>0.601642</td>\n",
              "      <td>1.142946</td>\n",
              "      <td>-0.065722</td>\n",
              "      <td>-0.021540</td>\n",
              "      <td>6.00</td>\n",
              "      <td>0</td>\n",
              "    </tr>\n",
              "    <tr>\n",
              "      <th>86967</th>\n",
              "      <td>1.277719</td>\n",
              "      <td>0.238629</td>\n",
              "      <td>0.150937</td>\n",
              "      <td>0.366142</td>\n",
              "      <td>0.186172</td>\n",
              "      <td>-0.024307</td>\n",
              "      <td>0.019426</td>\n",
              "      <td>-0.058278</td>\n",
              "      <td>-0.021364</td>\n",
              "      <td>-0.131688</td>\n",
              "      <td>-0.609022</td>\n",
              "      <td>0.599977</td>\n",
              "      <td>1.235809</td>\n",
              "      <td>0.059261</td>\n",
              "      <td>1.257916</td>\n",
              "      <td>0.217517</td>\n",
              "      <td>-0.494766</td>\n",
              "      <td>-0.815258</td>\n",
              "      <td>-0.166542</td>\n",
              "      <td>-0.048022</td>\n",
              "      <td>-0.276111</td>\n",
              "      <td>-0.719127</td>\n",
              "      <td>0.053281</td>\n",
              "      <td>-0.750068</td>\n",
              "      <td>0.283550</td>\n",
              "      <td>0.173676</td>\n",
              "      <td>-0.008388</td>\n",
              "      <td>0.008723</td>\n",
              "      <td>1.29</td>\n",
              "      <td>0</td>\n",
              "    </tr>\n",
              "    <tr>\n",
              "      <th>121321</th>\n",
              "      <td>1.898960</td>\n",
              "      <td>-1.424832</td>\n",
              "      <td>-0.655962</td>\n",
              "      <td>-0.828854</td>\n",
              "      <td>-1.133514</td>\n",
              "      <td>-0.266519</td>\n",
              "      <td>-0.965984</td>\n",
              "      <td>-0.057325</td>\n",
              "      <td>0.083597</td>\n",
              "      <td>0.686924</td>\n",
              "      <td>-0.735441</td>\n",
              "      <td>-0.498779</td>\n",
              "      <td>0.493885</td>\n",
              "      <td>-0.484497</td>\n",
              "      <td>0.672066</td>\n",
              "      <td>1.373560</td>\n",
              "      <td>-0.013665</td>\n",
              "      <td>-0.979429</td>\n",
              "      <td>0.193720</td>\n",
              "      <td>0.293841</td>\n",
              "      <td>0.479346</td>\n",
              "      <td>1.097607</td>\n",
              "      <td>0.047397</td>\n",
              "      <td>0.721292</td>\n",
              "      <td>-0.236904</td>\n",
              "      <td>-0.108815</td>\n",
              "      <td>-0.010836</td>\n",
              "      <td>-0.014209</td>\n",
              "      <td>150.00</td>\n",
              "      <td>0</td>\n",
              "    </tr>\n",
              "    <tr>\n",
              "      <th>209757</th>\n",
              "      <td>-2.264542</td>\n",
              "      <td>0.876229</td>\n",
              "      <td>2.767078</td>\n",
              "      <td>0.453284</td>\n",
              "      <td>-1.283922</td>\n",
              "      <td>1.408006</td>\n",
              "      <td>-0.561759</td>\n",
              "      <td>0.296034</td>\n",
              "      <td>1.187896</td>\n",
              "      <td>3.044434</td>\n",
              "      <td>0.781572</td>\n",
              "      <td>0.913489</td>\n",
              "      <td>0.064948</td>\n",
              "      <td>-1.980338</td>\n",
              "      <td>-1.691185</td>\n",
              "      <td>-3.042203</td>\n",
              "      <td>0.828920</td>\n",
              "      <td>1.077356</td>\n",
              "      <td>0.301684</td>\n",
              "      <td>0.712901</td>\n",
              "      <td>-0.744808</td>\n",
              "      <td>-0.142435</td>\n",
              "      <td>-0.205559</td>\n",
              "      <td>0.215991</td>\n",
              "      <td>0.491636</td>\n",
              "      <td>-0.103396</td>\n",
              "      <td>0.808615</td>\n",
              "      <td>0.328638</td>\n",
              "      <td>20.00</td>\n",
              "      <td>0</td>\n",
              "    </tr>\n",
              "    <tr>\n",
              "      <th>267131</th>\n",
              "      <td>-0.246432</td>\n",
              "      <td>1.205052</td>\n",
              "      <td>0.742941</td>\n",
              "      <td>-0.280321</td>\n",
              "      <td>0.864537</td>\n",
              "      <td>-0.150148</td>\n",
              "      <td>0.785650</td>\n",
              "      <td>-0.075361</td>\n",
              "      <td>-0.545013</td>\n",
              "      <td>-0.556227</td>\n",
              "      <td>-1.185542</td>\n",
              "      <td>0.326095</td>\n",
              "      <td>1.992239</td>\n",
              "      <td>-0.837147</td>\n",
              "      <td>0.817706</td>\n",
              "      <td>0.713963</td>\n",
              "      <td>-0.593244</td>\n",
              "      <td>0.118152</td>\n",
              "      <td>0.425612</td>\n",
              "      <td>0.264682</td>\n",
              "      <td>-0.336647</td>\n",
              "      <td>-0.814000</td>\n",
              "      <td>-0.206890</td>\n",
              "      <td>-1.023491</td>\n",
              "      <td>0.081488</td>\n",
              "      <td>0.153241</td>\n",
              "      <td>0.254322</td>\n",
              "      <td>0.087728</td>\n",
              "      <td>2.78</td>\n",
              "      <td>0</td>\n",
              "    </tr>\n",
              "  </tbody>\n",
              "</table>\n",
              "</div>"
            ],
            "text/plain": [
              "              V1        V2        V3  ...       V28  Amount  Class\n",
              "Index                                 ...                         \n",
              "277078  1.447339 -0.424178 -0.340811  ... -0.021540    6.00      0\n",
              "86967   1.277719  0.238629  0.150937  ...  0.008723    1.29      0\n",
              "121321  1.898960 -1.424832 -0.655962  ... -0.014209  150.00      0\n",
              "209757 -2.264542  0.876229  2.767078  ...  0.328638   20.00      0\n",
              "267131 -0.246432  1.205052  0.742941  ...  0.087728    2.78      0\n",
              "\n",
              "[5 rows x 30 columns]"
            ]
          },
          "metadata": {
            "tags": []
          },
          "execution_count": 10
        }
      ]
    },
    {
      "cell_type": "code",
      "metadata": {
        "id": "dtuXjiFjnf_D"
      },
      "source": [
        "# Splitting the dataset\r\n",
        "X = train_dt.drop(['Class'], axis=1)\r\n",
        "y = train_dt['Class']"
      ],
      "execution_count": 11,
      "outputs": []
    },
    {
      "cell_type": "code",
      "metadata": {
        "id": "4ff7sdU_n_m0"
      },
      "source": [
        "# Scaling the dataset\r\n",
        "from sklearn.preprocessing import MinMaxScaler\r\n",
        "\r\n",
        "scaler = MinMaxScaler()\r\n",
        "\r\n",
        "X = scaler.fit_transform(X)"
      ],
      "execution_count": 12,
      "outputs": []
    },
    {
      "cell_type": "code",
      "metadata": {
        "colab": {
          "base_uri": "https://localhost:8080/"
        },
        "id": "3szZfVw9pGnG",
        "outputId": "75e66328-70fa-4239-93ef-43e67cd9ab20"
      },
      "source": [
        "X"
      ],
      "execution_count": 13,
      "outputs": [
        {
          "output_type": "execute_result",
          "data": {
            "text/plain": [
              "array([[9.82882270e-01, 7.62782665e-01, 8.31507857e-01, ...,\n",
              "        4.15297881e-01, 3.12686754e-01, 2.33543367e-04],\n",
              "       [9.80000649e-01, 7.69776251e-01, 8.40029146e-01, ...,\n",
              "        4.16356130e-01, 3.13300890e-01, 5.02118238e-05],\n",
              "       [9.90554765e-01, 7.52224290e-01, 8.26046743e-01, ...,\n",
              "        4.16310942e-01, 3.12835521e-01, 5.83858417e-03],\n",
              "       ...,\n",
              "       [9.94108080e-01, 7.57603004e-01, 8.09581702e-01, ...,\n",
              "        4.15537535e-01, 3.11890649e-01, 2.71688783e-03],\n",
              "       [9.59931571e-01, 7.74574840e-01, 8.08209905e-01, ...,\n",
              "        4.21002573e-01, 3.14581392e-01, 2.33154128e-04],\n",
              "       [9.92038875e-01, 7.68118676e-01, 8.04869464e-01, ...,\n",
              "        4.15686454e-01, 3.12799394e-01, 1.48883896e-03]])"
            ]
          },
          "metadata": {
            "tags": []
          },
          "execution_count": 13
        }
      ]
    },
    {
      "cell_type": "code",
      "metadata": {
        "colab": {
          "base_uri": "https://localhost:8080/"
        },
        "id": "IIZ15Lfk-uqm",
        "outputId": "e7f44a57-ba1c-4768-db06-b0ecdf9e2033"
      },
      "source": [
        "# Using SMOTE reseampling method to balance the dataset\r\n",
        "from imblearn.over_sampling import SMOTE\r\n",
        "X_resampled, y_resampled = SMOTE().fit_resample(X, y)"
      ],
      "execution_count": 14,
      "outputs": [
        {
          "output_type": "stream",
          "text": [
            "/usr/local/lib/python3.6/dist-packages/sklearn/externals/six.py:31: FutureWarning: The module is deprecated in version 0.21 and will be removed in version 0.23 since we've dropped support for Python 2.7. Please rely on the official version of six (https://pypi.org/project/six/).\n",
            "  \"(https://pypi.org/project/six/).\", FutureWarning)\n",
            "/usr/local/lib/python3.6/dist-packages/sklearn/utils/deprecation.py:144: FutureWarning: The sklearn.neighbors.base module is  deprecated in version 0.22 and will be removed in version 0.24. The corresponding classes / functions should instead be imported from sklearn.neighbors. Anything that cannot be imported from sklearn.neighbors is now part of the private API.\n",
            "  warnings.warn(message, FutureWarning)\n",
            "/usr/local/lib/python3.6/dist-packages/sklearn/utils/deprecation.py:87: FutureWarning: Function safe_indexing is deprecated; safe_indexing is deprecated in version 0.22 and will be removed in version 0.24.\n",
            "  warnings.warn(msg, category=FutureWarning)\n"
          ],
          "name": "stderr"
        }
      ]
    },
    {
      "cell_type": "code",
      "metadata": {
        "colab": {
          "base_uri": "https://localhost:8080/"
        },
        "id": "b6gj642zr9yN",
        "outputId": "96860ad0-9613-484a-d26a-f1923e151632"
      },
      "source": [
        "from collections import Counter\r\n",
        "print(sorted(Counter(y_resampled).items()))"
      ],
      "execution_count": 15,
      "outputs": [
        {
          "output_type": "stream",
          "text": [
            "[(0, 284015), (1, 284015)]\n"
          ],
          "name": "stdout"
        }
      ]
    },
    {
      "cell_type": "code",
      "metadata": {
        "id": "4Uu1MuPitc_Y"
      },
      "source": [
        "# importing potential algorithms to fit the data with \r\n",
        "from sklearn.linear_model import LogisticRegression \r\n",
        "from sklearn.neighbors import KNeighborsClassifier\r\n",
        "from sklearn.ensemble import RandomForestClassifier\r\n",
        "from xgboost import XGBClassifier\r\n",
        "from sklearn.svm import LinearSVC"
      ],
      "execution_count": 16,
      "outputs": []
    },
    {
      "cell_type": "code",
      "metadata": {
        "id": "R6NGOEVZCkff"
      },
      "source": [
        "# Cross validate the dataset to prevent overfitting and select the best algorithm\r\n",
        "from sklearn.model_selection import cross_val_score"
      ],
      "execution_count": 17,
      "outputs": []
    },
    {
      "cell_type": "code",
      "metadata": {
        "colab": {
          "base_uri": "https://localhost:8080/"
        },
        "id": "5NcdVUJ-JPSm",
        "outputId": "8778ba31-9f3d-4593-8056-f90e1adc2ffe"
      },
      "source": [
        "rfc = RandomForestClassifier(n_estimators=100,n_jobs=-1)\r\n",
        "rfc_scores=cross_val_score(rfc, X_resampled, y_resampled, cv=10, scoring='accuracy')\r\n",
        "print(rfc_scores)\r\n",
        "print(rfc_scores.mean())"
      ],
      "execution_count": 18,
      "outputs": [
        {
          "output_type": "stream",
          "text": [
            "[0.99987677 0.99985916 0.99992958 0.99987677 0.99991198 0.99991198\n",
            " 0.99991198 0.99987677 0.99991198 0.9999824 ]\n",
            "0.9999049345985247\n"
          ],
          "name": "stdout"
        }
      ]
    },
    {
      "cell_type": "code",
      "metadata": {
        "colab": {
          "base_uri": "https://localhost:8080/"
        },
        "id": "iMNdCoKzuNKj",
        "outputId": "e7b836d9-c507-4c4c-e089-b9136aaa7632"
      },
      "source": [
        "xgb = XGBClassifier()\r\n",
        "xgb_scores=cross_val_score(xgb, X_resampled, y_resampled, cv=10, scoring='accuracy')\r\n",
        "print(xgb_scores)\r\n",
        "print(xgb_scores.mean())"
      ],
      "execution_count": 19,
      "outputs": [
        {
          "output_type": "stream",
          "text": [
            "[0.98082848 0.98156787 0.98075806 0.98084608 0.98051159 0.98285302\n",
            " 0.98385649 0.98183195 0.98030034 0.98193757]\n",
            "0.9815291445874337\n"
          ],
          "name": "stdout"
        }
      ]
    },
    {
      "cell_type": "code",
      "metadata": {
        "colab": {
          "base_uri": "https://localhost:8080/"
        },
        "id": "N1zpyV9ZY1Xe",
        "outputId": "486ef748-6a81-43f9-c9d8-81d4573525a0"
      },
      "source": [
        "svc = LinearSVC()\r\n",
        "svc_scores=cross_val_score(svc, X_resampled, y_resampled, cv=10, scoring='accuracy')\r\n",
        "print(svc_scores)\r\n",
        "print(svc_scores.mean())"
      ],
      "execution_count": 23,
      "outputs": [
        {
          "output_type": "stream",
          "text": [
            "[0.94627044 0.94658733 0.94700984 0.94803091 0.94600637 0.94841822\n",
            " 0.9476084  0.94887594 0.94533739 0.94718589]\n",
            "0.9471330739573615\n"
          ],
          "name": "stdout"
        }
      ]
    },
    {
      "cell_type": "code",
      "metadata": {
        "colab": {
          "base_uri": "https://localhost:8080/"
        },
        "id": "BslM44PdY2_u",
        "outputId": "29ed55c7-26d3-4285-e0fe-06f7372b22a1"
      },
      "source": [
        "knn = KNeighborsClassifier()\r\n",
        "knn_scores=cross_val_score(knn, X_resampled, y_resampled, cv=10, scoring='accuracy')\r\n",
        "print(knn_scores)\r\n",
        "print(knn_scores.mean())"
      ],
      "execution_count": 24,
      "outputs": [
        {
          "output_type": "stream",
          "text": [
            "[0.99931342 0.99931342 0.99933102 0.99922539 0.99927821 0.99936623\n",
            " 0.99929581 0.99929581 0.99936623 0.99934863]\n",
            "0.9993134165449009\n"
          ],
          "name": "stdout"
        }
      ]
    },
    {
      "cell_type": "markdown",
      "metadata": {
        "id": "gSR0SzDJexXk"
      },
      "source": [
        "Train The Best Model"
      ]
    },
    {
      "cell_type": "code",
      "metadata": {
        "colab": {
          "base_uri": "https://localhost:8080/"
        },
        "id": "yc_yb0AAatdL",
        "outputId": "b156c205-4653-4d0c-b6c4-bea1acf6a360"
      },
      "source": [
        "rfc = RandomForestClassifier(n_estimators=100,n_jobs=-1)\r\n",
        "rfc.fit(X_resampled,y_resampled)"
      ],
      "execution_count": 27,
      "outputs": [
        {
          "output_type": "execute_result",
          "data": {
            "text/plain": [
              "RandomForestClassifier(bootstrap=True, ccp_alpha=0.0, class_weight=None,\n",
              "                       criterion='gini', max_depth=None, max_features='auto',\n",
              "                       max_leaf_nodes=None, max_samples=None,\n",
              "                       min_impurity_decrease=0.0, min_impurity_split=None,\n",
              "                       min_samples_leaf=1, min_samples_split=2,\n",
              "                       min_weight_fraction_leaf=0.0, n_estimators=100,\n",
              "                       n_jobs=-1, oob_score=False, random_state=None, verbose=0,\n",
              "                       warm_start=False)"
            ]
          },
          "metadata": {
            "tags": []
          },
          "execution_count": 27
        }
      ]
    },
    {
      "cell_type": "code",
      "metadata": {
        "id": "ptntLJkIeKSr"
      },
      "source": [
        "# Test data path\r\n",
        "test_path = \"/content/drive/MyDrive/MLIndiaAI/TEST.csv\""
      ],
      "execution_count": 28,
      "outputs": []
    },
    {
      "cell_type": "code",
      "metadata": {
        "id": "a2Xyz0cEfA2v"
      },
      "source": [
        "# Reading in the test dataset\r\n",
        "test_dt = pd.read_csv(test_path, index_col='Index')\r\n",
        "test_dt.index\r\n",
        "# scaling the test dataset\r\n",
        "x_test = scaler.transform(test_dt)"
      ],
      "execution_count": 44,
      "outputs": []
    },
    {
      "cell_type": "code",
      "metadata": {
        "id": "AR8nqKGVjlav"
      },
      "source": [
        "# Making predictions from the trained model\r\n",
        "y_pred = rfc.predict(x_test)"
      ],
      "execution_count": 45,
      "outputs": []
    },
    {
      "cell_type": "code",
      "metadata": {
        "colab": {
          "base_uri": "https://localhost:8080/",
          "height": 419
        },
        "id": "CDLrC5rSlmm_",
        "outputId": "42a2388a-dff0-4b78-867e-b68457f2da6b"
      },
      "source": [
        "# Final Result\r\n",
        "result = pd.DataFrame({\"Index\":test_dt.index, 'Class':y_pred})\r\n",
        "result"
      ],
      "execution_count": 47,
      "outputs": [
        {
          "output_type": "execute_result",
          "data": {
            "text/html": [
              "<div>\n",
              "<style scoped>\n",
              "    .dataframe tbody tr th:only-of-type {\n",
              "        vertical-align: middle;\n",
              "    }\n",
              "\n",
              "    .dataframe tbody tr th {\n",
              "        vertical-align: top;\n",
              "    }\n",
              "\n",
              "    .dataframe thead th {\n",
              "        text-align: right;\n",
              "    }\n",
              "</style>\n",
              "<table border=\"1\" class=\"dataframe\">\n",
              "  <thead>\n",
              "    <tr style=\"text-align: right;\">\n",
              "      <th></th>\n",
              "      <th>Index</th>\n",
              "      <th>Class</th>\n",
              "    </tr>\n",
              "  </thead>\n",
              "  <tbody>\n",
              "    <tr>\n",
              "      <th>0</th>\n",
              "      <td>0</td>\n",
              "      <td>0</td>\n",
              "    </tr>\n",
              "    <tr>\n",
              "      <th>1</th>\n",
              "      <td>1</td>\n",
              "      <td>0</td>\n",
              "    </tr>\n",
              "    <tr>\n",
              "      <th>2</th>\n",
              "      <td>2</td>\n",
              "      <td>0</td>\n",
              "    </tr>\n",
              "    <tr>\n",
              "      <th>3</th>\n",
              "      <td>3</td>\n",
              "      <td>1</td>\n",
              "    </tr>\n",
              "    <tr>\n",
              "      <th>4</th>\n",
              "      <td>4</td>\n",
              "      <td>0</td>\n",
              "    </tr>\n",
              "    <tr>\n",
              "      <th>...</th>\n",
              "      <td>...</td>\n",
              "      <td>...</td>\n",
              "    </tr>\n",
              "    <tr>\n",
              "      <th>347</th>\n",
              "      <td>347</td>\n",
              "      <td>1</td>\n",
              "    </tr>\n",
              "    <tr>\n",
              "      <th>348</th>\n",
              "      <td>348</td>\n",
              "      <td>0</td>\n",
              "    </tr>\n",
              "    <tr>\n",
              "      <th>349</th>\n",
              "      <td>349</td>\n",
              "      <td>0</td>\n",
              "    </tr>\n",
              "    <tr>\n",
              "      <th>350</th>\n",
              "      <td>350</td>\n",
              "      <td>0</td>\n",
              "    </tr>\n",
              "    <tr>\n",
              "      <th>351</th>\n",
              "      <td>351</td>\n",
              "      <td>0</td>\n",
              "    </tr>\n",
              "  </tbody>\n",
              "</table>\n",
              "<p>352 rows × 2 columns</p>\n",
              "</div>"
            ],
            "text/plain": [
              "     Index  Class\n",
              "0        0      0\n",
              "1        1      0\n",
              "2        2      0\n",
              "3        3      1\n",
              "4        4      0\n",
              "..     ...    ...\n",
              "347    347      1\n",
              "348    348      0\n",
              "349    349      0\n",
              "350    350      0\n",
              "351    351      0\n",
              "\n",
              "[352 rows x 2 columns]"
            ]
          },
          "metadata": {
            "tags": []
          },
          "execution_count": 47
        }
      ]
    },
    {
      "cell_type": "code",
      "metadata": {
        "colab": {
          "base_uri": "https://localhost:8080/"
        },
        "id": "Pw22ngTqneMg",
        "outputId": "54c1ab87-3d18-48a2-d309-75bbb13b389f"
      },
      "source": [
        "result['Class'].value_counts()"
      ],
      "execution_count": 49,
      "outputs": [
        {
          "output_type": "execute_result",
          "data": {
            "text/plain": [
              "0    309\n",
              "1     43\n",
              "Name: Class, dtype: int64"
            ]
          },
          "metadata": {
            "tags": []
          },
          "execution_count": 49
        }
      ]
    },
    {
      "cell_type": "code",
      "metadata": {
        "id": "enp0jhnrnkFz"
      },
      "source": [
        "result.to_csv('/content/drive/MyDrive/MLIndiaAI/result.csv',index=False)"
      ],
      "execution_count": 50,
      "outputs": []
    },
    {
      "cell_type": "code",
      "metadata": {
        "id": "ydCI8BL1sJtL"
      },
      "source": [
        ""
      ],
      "execution_count": null,
      "outputs": []
    }
  ]
}